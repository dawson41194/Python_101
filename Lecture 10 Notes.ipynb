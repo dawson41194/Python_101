{
 "cells": [
  {
   "cell_type": "markdown",
   "metadata": {},
   "source": [
    "# Odds and ends\n",
    "\n",
    "is vs ==\n",
    "\n",
    "Write to files, .join()\n",
    "\n",
    "precision limits of floats\n",
    "\n",
    "tuples\n",
    "\n",
    "Passing functions as arguments: example: resample with mean, min, max, median"
   ]
  },
  {
   "cell_type": "markdown",
   "metadata": {},
   "source": [
    "# Functions can also be arguments to other functions\n",
    "As you saw in ps9 sometimes you want the mean, sometimes the median, sometimes the extreme value. You functions called boostrap means, bootstrap minimum. In some cases its useful to have a more general function that accepts any summary stat and returns an answer based on that."
   ]
  },
  {
   "cell_type": "code",
   "execution_count": 1,
   "metadata": {
    "collapsed": true
   },
   "outputs": [],
   "source": [
    "# pass functions as arguments\n",
    "\n",
    "import numpy as np\n",
    "%matplotlib inline\n",
    "import matplotlib.pyplot as plt"
   ]
  },
  {
   "cell_type": "code",
   "execution_count": 4,
   "metadata": {},
   "outputs": [
    {
     "name": "stdout",
     "output_type": "stream",
     "text": [
      "[-0.15895463 -0.06943803  2.155793   -1.13454821 -0.77813221 -0.59266742\n",
      "  0.61071141 -0.80555982  0.3776159   1.14021756]\n",
      "0.0745037531016 -1.13454821261 2.15579299675\n"
     ]
    }
   ],
   "source": [
    "sample = np.random.normal(0, 1, 10)\n",
    "print(sample)\n",
    "print(np.mean(sample), min(sample), max(sample))"
   ]
  },
  {
   "cell_type": "code",
   "execution_count": 8,
   "metadata": {
    "collapsed": true
   },
   "outputs": [],
   "source": [
    "# What if we want summary stats? You did bootstrap resampling with mean, min, etc.\n",
    "# Write one function to specify\n",
    "\n",
    "def summarize_normal_sample(mean, sd, size, function):\n",
    "        sample = np.random.normal(mean, sd, size)\n",
    "        \n",
    "        return function(sample)"
   ]
  },
  {
   "cell_type": "code",
   "execution_count": 15,
   "metadata": {},
   "outputs": [
    {
     "data": {
      "image/png": "[encoded data removed]",
      "text/plain": [
       "<matplotlib.figure.Figure at 0x116ef45f8>"
      ]
     },
     "metadata": {},
     "output_type": "display_data"
    }
   ],
   "source": [
    "# Call same function, pass different sumary stats as argument\n",
    "sample_mins = []\n",
    "numTrials = 100\n",
    "\n",
    "for i in range(numTrials):\n",
    "    sample_min = summarize_normal_sample(0, 1, 10, np.min)\n",
    "    sample_mins.append(sample_min)\n",
    "    \n",
    "\n",
    "sample_means []   \n",
    "for i in range(numTrials):\n",
    "    sample_mean = summarize_normal_sample(0, 1, 10, np.mean)\n",
    "    sample_means.append(sample_mean)\n",
    "    \n",
    "    \n",
    "#print(sample_means)\n",
    "plt.hist(sample_means, normed = True, label = 'means')\n",
    "plt.hist(sample_mins, normed = True, label = 'mins')\n",
    "plt.legend()\n",
    "pass"
   ]
  },
  {
   "cell_type": "markdown",
   "metadata": {},
   "source": [
    "# `is` vs `==`\n",
    "\n",
    "`is` test for identity:\n",
    "`a` is `b`  - are `a` and `b` the same thing, i.e., the same memory object?\n",
    "\n",
    "`==` tests for equality - do `a` and `b` have the same value?"
   ]
  },
  {
   "cell_type": "code",
   "execution_count": 10,
   "metadata": {},
   "outputs": [
    {
     "data": {
      "text/plain": [
       "True"
      ]
     },
     "execution_count": 10,
     "metadata": {},
     "output_type": "execute_result"
    }
   ],
   "source": [
    "# In the context of lists:\n",
    "\n",
    "a = [0, 1, 2]\n",
    "b = a # assign b to a\n",
    "a is b"
   ]
  },
  {
   "cell_type": "code",
   "execution_count": 17,
   "metadata": {},
   "outputs": [
    {
     "data": {
      "text/plain": [
       "True"
      ]
     },
     "execution_count": 17,
     "metadata": {},
     "output_type": "execute_result"
    }
   ],
   "source": [
    "a == b"
   ]
  },
  {
   "cell_type": "code",
   "execution_count": 11,
   "metadata": {},
   "outputs": [
    {
     "name": "stdout",
     "output_type": "stream",
     "text": [
      "4402130632 4402130632\n"
     ]
    }
   ],
   "source": [
    "print(id(a), id(b))"
   ]
  },
  {
   "cell_type": "code",
   "execution_count": 14,
   "metadata": {},
   "outputs": [
    {
     "data": {
      "text/plain": [
       "False"
      ]
     },
     "execution_count": 14,
     "metadata": {},
     "output_type": "execute_result"
    }
   ],
   "source": [
    "b = list(a)\n",
    "a is b"
   ]
  },
  {
   "cell_type": "code",
   "execution_count": 15,
   "metadata": {},
   "outputs": [
    {
     "data": {
      "text/plain": [
       "True"
      ]
     },
     "execution_count": 15,
     "metadata": {},
     "output_type": "execute_result"
    }
   ],
   "source": [
    "a == b"
   ]
  },
  {
   "cell_type": "code",
   "execution_count": 16,
   "metadata": {},
   "outputs": [
    {
     "name": "stdout",
     "output_type": "stream",
     "text": [
      "4402130632 4513495816\n"
     ]
    }
   ],
   "source": [
    "print(id(a), id(b))"
   ]
  },
  {
   "cell_type": "code",
   "execution_count": 20,
   "metadata": {},
   "outputs": [
    {
     "data": {
      "text/plain": [
       "True"
      ]
     },
     "execution_count": 20,
     "metadata": {},
     "output_type": "execute_result"
    }
   ],
   "source": [
    "# works for strings:\n",
    "a = 'DNA'\n",
    "b = 'DNA'\n",
    "a is b # there are subtle cases when this won't work, such as when value read in from file"
   ]
  },
  {
   "cell_type": "markdown",
   "metadata": {},
   "source": [
    "## Lesson: use `==` to test for equality, `is` to test for identity."
   ]
  },
  {
   "cell_type": "markdown",
   "metadata": {},
   "source": [
    "# Another data type we've danced around - tuples"
   ]
  },
  {
   "cell_type": "code",
   "execution_count": 21,
   "metadata": {},
   "outputs": [
    {
     "data": {
      "text/plain": [
       "tuple"
      ]
     },
     "execution_count": 21,
     "metadata": {},
     "output_type": "execute_result"
    }
   ],
   "source": [
    "# Tuples - liks a list, but within parentheses. Can't modify like a list\n",
    "\n",
    "x = 10\n",
    "y = 30\n",
    "\n",
    "a = (x, y)\n",
    "type(a)"
   ]
  },
  {
   "cell_type": "code",
   "execution_count": 22,
   "metadata": {},
   "outputs": [
    {
     "name": "stdout",
     "output_type": "stream",
     "text": [
      "10 30\n"
     ]
    }
   ],
   "source": [
    "c, d = a # unpack a tuple\n",
    "print(c, d)"
   ]
  },
  {
   "cell_type": "code",
   "execution_count": 24,
   "metadata": {},
   "outputs": [
    {
     "data": {
      "text/plain": [
       "10"
      ]
     },
     "execution_count": 24,
     "metadata": {},
     "output_type": "execute_result"
    }
   ],
   "source": [
    "# Tuples are indexable but not changeable\n",
    "a[0]"
   ]
  },
  {
   "cell_type": "code",
   "execution_count": 27,
   "metadata": {},
   "outputs": [
    {
     "ename": "TypeError",
     "evalue": "'tuple' object does not support item assignment",
     "output_type": "error",
     "traceback": [
      "\u001b[0;31m---------------------------------------------------------------------------\u001b[0m",
      "\u001b[0;31mTypeError\u001b[0m                                 Traceback (most recent call last)",
      "\u001b[0;32m<ipython-input-27-4de5e03247ed>\u001b[0m in \u001b[0;36m<module>\u001b[0;34m()\u001b[0m\n\u001b[1;32m      1\u001b[0m \u001b[0mz\u001b[0m \u001b[0;34m=\u001b[0m \u001b[0;36m5\u001b[0m\u001b[0;34m\u001b[0m\u001b[0m\n\u001b[1;32m      2\u001b[0m \u001b[0;31m#a.append(z) # NO\u001b[0m\u001b[0;34m\u001b[0m\u001b[0;34m\u001b[0m\u001b[0m\n\u001b[0;32m----> 3\u001b[0;31m \u001b[0ma\u001b[0m\u001b[0;34m[\u001b[0m\u001b[0;36m0\u001b[0m\u001b[0;34m]\u001b[0m \u001b[0;34m=\u001b[0m \u001b[0;36m5\u001b[0m \u001b[0;31m# NO\u001b[0m\u001b[0;34m\u001b[0m\u001b[0m\n\u001b[0m",
      "\u001b[0;31mTypeError\u001b[0m: 'tuple' object does not support item assignment"
     ]
    }
   ],
   "source": [
    "z = 5\n",
    "a.append(z) # NO\n",
    "a[0] = 5 # NO"
   ]
  },
  {
   "cell_type": "code",
   "execution_count": 5,
   "metadata": {},
   "outputs": [
    {
     "name": "stdout",
     "output_type": "stream",
     "text": [
      "30.0\n",
      "13.333333333333334\n",
      "6.666666666666667\n"
     ]
    }
   ],
   "source": [
    "# zip works by making tuples, which are then unpacked in a for loop:\n",
    "\n",
    "red = [3, 4, 2]\n",
    "green = [0.1, 0.3, 0.3]\n",
    "\n",
    "for r, g in zip(red, green):\n",
    "    ratio = r/g\n",
    "    print(ratio)"
   ]
  },
  {
   "cell_type": "code",
   "execution_count": 6,
   "metadata": {},
   "outputs": [
    {
     "data": {
      "text/plain": [
       "[(3, 0.1), (4, 0.3), (2, 0.3)]"
      ]
     },
     "execution_count": 6,
     "metadata": {},
     "output_type": "execute_result"
    }
   ],
   "source": [
    "list(zip(red, green))"
   ]
  },
  {
   "cell_type": "markdown",
   "metadata": {},
   "source": [
    "# Limits to the precision of floats... numbers with decimals.\n",
    "https://docs.python.org/3/tutorial/floatingpoint.html\n",
    "\n",
    "Numbers that can't be represented as base 2 fractions have limited precision on your computer.\n",
    "\n",
    "\"the actual stored value is the nearest representable binary fraction\""
   ]
  },
  {
   "cell_type": "code",
   "execution_count": 29,
   "metadata": {},
   "outputs": [
    {
     "data": {
      "text/plain": [
       "True"
      ]
     },
     "execution_count": 29,
     "metadata": {},
     "output_type": "execute_result"
    }
   ],
   "source": [
    "0.1 == 1/10"
   ]
  },
  {
   "cell_type": "code",
   "execution_count": 30,
   "metadata": {},
   "outputs": [
    {
     "data": {
      "text/plain": [
       "False"
      ]
     },
     "execution_count": 30,
     "metadata": {},
     "output_type": "execute_result"
    }
   ],
   "source": [
    "0.1 is 1/10"
   ]
  },
  {
   "cell_type": "code",
   "execution_count": 9,
   "metadata": {},
   "outputs": [
    {
     "name": "stdout",
     "output_type": "stream",
     "text": [
      "4512577096 4512577504\n"
     ]
    }
   ],
   "source": [
    "print(id(0.1), id(1/10))"
   ]
  },
  {
   "cell_type": "code",
   "execution_count": 31,
   "metadata": {},
   "outputs": [
    {
     "data": {
      "text/plain": [
       "False"
      ]
     },
     "execution_count": 31,
     "metadata": {},
     "output_type": "execute_result"
    }
   ],
   "source": [
    "0.1 + 0.1 + 0.1 == 0.3"
   ]
  },
  {
   "cell_type": "code",
   "execution_count": 35,
   "metadata": {},
   "outputs": [
    {
     "data": {
      "text/plain": [
       "0.30000000000000004"
      ]
     },
     "execution_count": 35,
     "metadata": {},
     "output_type": "execute_result"
    }
   ],
   "source": [
    "0.1 + 0.1 + 0.1"
   ]
  },
  {
   "cell_type": "code",
   "execution_count": 32,
   "metadata": {},
   "outputs": [
    {
     "data": {
      "text/plain": [
       "False"
      ]
     },
     "execution_count": 32,
     "metadata": {},
     "output_type": "execute_result"
    }
   ],
   "source": [
    "# Zach's example\n",
    "32/10000 + 44/10000 == (32 + 44) / 10000"
   ]
  },
  {
   "cell_type": "code",
   "execution_count": 33,
   "metadata": {},
   "outputs": [
    {
     "data": {
      "text/plain": [
       "0.007600000000000001"
      ]
     },
     "execution_count": 33,
     "metadata": {},
     "output_type": "execute_result"
    }
   ],
   "source": [
    "32/10000 + 44/10000"
   ]
  },
  {
   "cell_type": "code",
   "execution_count": 34,
   "metadata": {},
   "outputs": [
    {
     "data": {
      "text/plain": [
       "0.0076"
      ]
     },
     "execution_count": 34,
     "metadata": {},
     "output_type": "execute_result"
    }
   ],
   "source": [
    "(32 + 44)/10000"
   ]
  },
  {
   "cell_type": "markdown",
   "metadata": {},
   "source": [
    "Solution: don't test for equality, test for similarity of certain number of decimal places\n",
    "If you really more precision, there are some specialized tools and workaround, but ultimately you're limited by your hardware. We're not sending a spaceship to Jupiter, don't need heavy numerical calculations.\n",
    "\n",
    "# While loops"
   ]
  },
  {
   "cell_type": "code",
   "execution_count": 1,
   "metadata": {},
   "outputs": [
    {
     "name": "stdout",
     "output_type": "stream",
     "text": [
      "number of loops:  40\n"
     ]
    }
   ],
   "source": [
    "import numpy as np\n",
    "loops = 0\n",
    "score = 0\n",
    "\n",
    "while score < 20:\n",
    "    \n",
    "    score += 0.5\n",
    "    loops += 1\n",
    "    \n",
    "print(\"number of loops: \",loops)"
   ]
  },
  {
   "cell_type": "code",
   "execution_count": 2,
   "metadata": {},
   "outputs": [
    {
     "data": {
      "text/plain": [
       "array([  9.99189929,   8.54335198,   9.21468407,  27.85421922,\n",
       "         8.88339942,  10.94862674,  10.15033467,  10.35241269,\n",
       "        13.17247551,   7.59450959,  11.29402429,  11.16033105,\n",
       "         6.80299399,   8.61068882,  15.67044606,   9.71144716,\n",
       "         7.25596993,   8.64631456,  11.17929431,   8.55732172,\n",
       "         8.44927139,  11.12143382,  13.37488095,  12.81734489,\n",
       "         6.61270764,  14.80068981,  12.54053065,   7.90947475,\n",
       "        10.63438442,   8.92725774,   7.65861684,  10.56291279,\n",
       "        10.56346206,   9.92903403,   8.92685953,   7.3233232 ,\n",
       "         9.81514072,   8.8587238 ,   7.88596424,  13.02603654,\n",
       "         4.31052306,   5.97961791,  11.67139125,  13.20241966,\n",
       "        13.15649969,   5.0746993 ,  10.19604421,  13.29478457,\n",
       "        10.83417468,   9.9182934 ,  11.0166064 ,  10.05905288,\n",
       "        10.12216082,  11.34446752,   6.62295429,   9.04971963,\n",
       "         9.25406126,   6.86550258,  16.17612857,  11.08618924,\n",
       "         7.57048189,  10.38254311,   9.22313749,  11.15831021,\n",
       "         9.31886088,  10.37519578,   8.41005934,   9.27608163,\n",
       "         9.30066197,   9.24964081,  10.40245811,   7.9210398 ,\n",
       "         9.87039216,   7.09429435,  11.72528705,  14.63766968,\n",
       "        13.3568222 ,  10.10887529,  10.01558123,   8.03382215,\n",
       "        11.02611354,   8.77768355,   8.58364092,   9.93185169,\n",
       "         8.75873073,   7.36067201,  14.23394732,   7.96233073,\n",
       "        13.43658486,   7.77859192,   8.76890171,   8.93443068,\n",
       "         7.00838777,   9.76991038,  13.05623498,   8.53500475])"
      ]
     },
     "execution_count": 2,
     "metadata": {},
     "output_type": "execute_result"
    }
   ],
   "source": [
    "red = np.random.normal(100, 15, 96)\n",
    "green = np.random.normal(10, 2, 96)\n",
    "red/green"
   ]
  },
  {
   "cell_type": "code",
   "execution_count": null,
   "metadata": {
    "collapsed": true
   },
   "outputs": [],
   "source": []
  }
 ],
 "metadata": {
  "kernelspec": {
   "display_name": "Python 3",
   "language": "python",
   "name": "python3"
  },
  "language_info": {
   "codemirror_mode": {
    "name": "ipython",
    "version": 3
   },
   "file_extension": ".py",
   "mimetype": "text/x-python",
   "name": "python",
   "nbconvert_exporter": "python",
   "pygments_lexer": "ipython3",
   "version": "3.6.1"
  }
 },
 "nbformat": 4,
 "nbformat_minor": 2
}
