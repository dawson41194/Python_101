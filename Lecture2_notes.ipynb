{
 "cells": [
  {
   "cell_type": "markdown",
   "metadata": {},
   "source": [
    "# Lecture 2 notes"
   ]
  },
  {
   "cell_type": "markdown",
   "metadata": {},
   "source": [
    "# FOR loops.\n",
    "\n",
    "Last week we talked about variables, the types of values in variables, and one particular data type - lists. Lists important for holding and manipulating LARGE data sets. We learned some tool for manipulating lists, but were missing a big piece. Say you have a list of 5,000 measurements that you want to normalize by some value. Need to perform that division 5,000 times.\n",
    "\n",
    "Or often we have data as a table - rows, columns. Lets say a table of gene coordinates for 20,000 genes, and you want to find the length - for each row, subtract one column from the other.\n",
    "\n",
    "Solution is the FOR loop - computers are really fast at repeating the same action over and over. With FOR loops, you take advantage of that property of computers.\n",
    "\n",
    "For those of you who learned other languages, you've seen for loops. But they operate slightly differently in Python. For example, you may have learned about the concept of a foreach loop - distinct behavior from for. In python, for loops behave like foreach loops. If this is gibberish, don't worry."
   ]
  },
  {
   "cell_type": "code",
   "execution_count": 1,
   "metadata": {},
   "outputs": [
    {
     "name": "stdout",
     "output_type": "stream",
     "text": [
      "0\n",
      "1\n",
      "2\n",
      "3\n",
      "4\n",
      "5\n",
      "6\n",
      "7\n",
      "8\n",
      "9\n",
      "10\n"
     ]
    }
   ],
   "source": [
    "# Simple example\n",
    "numbers = [0, 1, 2, 3, 4, 5, 6, 7, 8, 9, 10]\n",
    "\n",
    "for number in numbers: # note syntax coloring, for, in, colon\n",
    "    print(number) # NOTE the indentation - notebook does automatically\n",
    "# DOESN'T HAVE TO BE NUMBER - CAN BE ANY VARIABLE NAME    "
   ]
  },
  {
   "cell_type": "code",
   "execution_count": 2,
   "metadata": {},
   "outputs": [
    {
     "name": "stdout",
     "output_type": "stream",
     "text": [
      "0\n",
      "Added one: 1\n",
      "1\n",
      "Added one: 2\n",
      "2\n",
      "Added one: 3\n",
      "3\n",
      "Added one: 4\n",
      "4\n",
      "Added one: 5\n",
      "5\n",
      "Added one: 6\n",
      "6\n",
      "Added one: 7\n",
      "7\n",
      "Added one: 8\n",
      "8\n",
      "Added one: 9\n",
      "9\n",
      "Added one: 10\n",
      "10\n",
      "Added one: 11\n",
      "The list contains 11 numbers\n"
     ]
    }
   ],
   "source": [
    "# You can put any amount of code in the block\n",
    "\n",
    "for number in numbers: # note syntax coloring, for, in, colon\n",
    "    print(number) # NOTE the indentation - notebook does automatically\n",
    "    plusone = number + 1 # or use the += operator\n",
    "    print('Added one:', plusone)\n",
    "    \n",
    "print(\"The list contains\", len(numbers), \"numbers\") # indentation to end"
   ]
  },
  {
   "cell_type": "markdown",
   "metadata": {},
   "source": [
    "Take a moment to think about this example. If you've never coded, make sure you know what each element of these statements does. What has to be in every for loop? What words can you change? What is the state of the list after the for loop is done?\n",
    "\n",
    "If you've written for loops in other languages, take a moment to think about how it's differnet in python. Blocks are 4 spaces - NOT tabs!!!"
   ]
  },
  {
   "cell_type": "markdown",
   "metadata": {},
   "source": [
    "## Looping over two lists\n",
    "\n",
    "Often you'll find yourself needing to work with two lists to calculate a result. Let's take a toy example: say we have an experiment in which we measured the time of 5 mice running on a wheel over an hour before and after administerting some drug. We want to calculate the dofference in time on the wheel. So subtract one value from another. Easy to do it with a calculator here, but same principle applies to a dataset with 1 million points. Computer doesn't really care"
   ]
  },
  {
   "cell_type": "code",
   "execution_count": 4,
   "metadata": {},
   "outputs": [
    {
     "name": "stdout",
     "output_type": "stream",
     "text": [
      "12\n",
      "20\n",
      "16\n",
      "14\n",
      "46\n"
     ]
    }
   ],
   "source": [
    "# Define lists:\n",
    "before = [0, 23, 34, 15, 21] # time in seconds\n",
    "after  = [12, 43, 50, 29, 67]\n",
    "\n",
    "# To loop over BOTH lists together, we use zip() - most pythonic\n",
    "\n",
    "for b, a in zip(before, after):\n",
    "    difference = a - b\n",
    "    print(difference)"
   ]
  },
  {
   "cell_type": "code",
   "execution_count": 5,
   "metadata": {
    "collapsed": true
   },
   "outputs": [],
   "source": [
    "# NOW how do we save the result in a new list?\n",
    "# What happens if you define new list within block versus without?"
   ]
  },
  {
   "cell_type": "markdown",
   "metadata": {},
   "source": [
    "# Conditional statements\n",
    "\n",
    "Often you want to perform some operation only some of the time. For that we use conditional statememnts. if statement"
   ]
  },
  {
   "cell_type": "code",
   "execution_count": 9,
   "metadata": {},
   "outputs": [
    {
     "name": "stdout",
     "output_type": "stream",
     "text": [
      "The Cards will go the series\n"
     ]
    }
   ],
   "source": [
    "# You can compose any condition that evaluates to true or false\n",
    "\n",
    "x = 0\n",
    "\n",
    "if x > 10:\n",
    "    print(\"The Cards will go the series\")\n",
    "\n",
    "# you can put any condition in there = if 1 + 1 == 2"
   ]
  },
  {
   "cell_type": "code",
   "execution_count": 11,
   "metadata": {
    "collapsed": true
   },
   "outputs": [],
   "source": [
    "# if statement example\n",
    "gene_types = ['miRNA', 'mRNA', 'lncRNA', 'tRNA']\n",
    "\n",
    "if 'mRNA' in gene_types:\n",
    "    print(\"I found an mRNA\")\n",
    "    \n",
    "# Try an example where it's not there."
   ]
  },
  {
   "cell_type": "code",
   "execution_count": 12,
   "metadata": {},
   "outputs": [
    {
     "name": "stdout",
     "output_type": "stream",
     "text": [
      "I found an mRNA\n"
     ]
    }
   ],
   "source": [
    "# How about, do something if the condition is true\n",
    "# Something else if it's false\n",
    "gene_types = ['miRNA', 'mRNA', 'lncRNA', 'tRNA']\n",
    "\n",
    "gene = 'mRNA'\n",
    "\n",
    "if gene in gene_types:\n",
    "    print(\"I found a\", gene)\n",
    "else:\n",
    "    print(\" I didn't find a\", gene)\n",
    "    \n",
    "# Try an example with a variable"
   ]
  },
  {
   "cell_type": "code",
   "execution_count": 13,
   "metadata": {},
   "outputs": [
    {
     "name": "stdout",
     "output_type": "stream",
     "text": [
      "I found an mRNA.\n"
     ]
    }
   ],
   "source": [
    "# More than one option\n",
    "gene_types = ['miRNA', 'mRNA', 'lncRNA', 'tRNA']\n",
    "\n",
    "\n",
    "if 'mRNA' in gene_types:\n",
    "    print(\"I found an mRNA.\")\n",
    "elif 'tRNA' in gene_types:\n",
    "    print(\"I found a tRNA.\")\n",
    "else:\n",
    "    print(\" I didn't find either one.\")\n",
    "    \n",
    "# NOTE THE ORDER - later statements are evaluated \n",
    "# ONLY if the first is false."
   ]
  },
  {
   "cell_type": "markdown",
   "metadata": {},
   "source": [
    "You now have key tools. Most of what we'll do involves using these main concepts in more complex combinations to do what we want. Critical to understand the elements."
   ]
  },
  {
   "cell_type": "markdown",
   "metadata": {},
   "source": [
    "# ACTIVITY 1"
   ]
  },
  {
   "cell_type": "markdown",
   "metadata": {},
   "source": [
    "# UCSC browser\n",
    "\n",
    "Genome data is held in online repositories, e.g. UCSC Genome Browser\n",
    "\n",
    "**KEY CONCEPT 1:** Data is held in text files (and so are the programs/scripts you write) - why this is good\n",
    "\n",
    "These flat files are available in all sorts of databases. Learning how to use them is valuable - it lets you do more than just look up your favorite gene\n",
    "\n",
    "Open a data file in a text editor. Note some things about it. Header row, tab delimited.\n",
    "\n",
    "How do we get this into jupyter notebook? That's the subject of the next self-guided activity."
   ]
  },
  {
   "cell_type": "markdown",
   "metadata": {},
   "source": [
    "# ACTIVITY 2"
   ]
  }
 ],
 "metadata": {
  "kernelspec": {
   "display_name": "Python 3",
   "language": "python",
   "name": "python3"
  },
  "language_info": {
   "codemirror_mode": {
    "name": "ipython",
    "version": 3
   },
   "file_extension": ".py",
   "mimetype": "text/x-python",
   "name": "python",
   "nbconvert_exporter": "python",
   "pygments_lexer": "ipython3",
   "version": "3.6.1"
  }
 },
 "nbformat": 4,
 "nbformat_minor": 2
}
