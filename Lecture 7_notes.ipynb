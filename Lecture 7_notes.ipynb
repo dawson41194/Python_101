{
 "cells": [
  {
   "cell_type": "markdown",
   "metadata": {},
   "source": [
    "# Variables in and out of functions\n",
    "\n",
    "**Rule: Variables/data in functions should go in through arguments, come out via `return`.**"
   ]
  },
  {
   "cell_type": "code",
   "execution_count": 1,
   "metadata": {
    "collapsed": true
   },
   "outputs": [],
   "source": [
    "# Correct way to write this function\n",
    "def addOne(number):\n",
    "    return number + 1"
   ]
  },
  {
   "cell_type": "code",
   "execution_count": 2,
   "metadata": {},
   "outputs": [
    {
     "data": {
      "text/plain": [
       "3"
      ]
     },
     "execution_count": 2,
     "metadata": {},
     "output_type": "execute_result"
    }
   ],
   "source": [
    "# Works as expected, takes straight value as argument\n",
    "addOne(2)"
   ]
  },
  {
   "cell_type": "code",
   "execution_count": 3,
   "metadata": {},
   "outputs": [
    {
     "data": {
      "text/plain": [
       "5"
      ]
     },
     "execution_count": 3,
     "metadata": {},
     "output_type": "execute_result"
    }
   ],
   "source": [
    "# Names of variables passed as arguments don't need to match variable name in the function definition\n",
    "# Here, the value of n is assigned to the local variable 'number' inside the function\n",
    "\n",
    "n = 4\n",
    "addOne(n)"
   ]
  },
  {
   "cell_type": "code",
   "execution_count": 4,
   "metadata": {},
   "outputs": [
    {
     "ename": "NameError",
     "evalue": "name 'number' is not defined",
     "output_type": "error",
     "traceback": [
      "\u001b[0;31m---------------------------------------------------------------------------\u001b[0m",
      "\u001b[0;31mNameError\u001b[0m                                 Traceback (most recent call last)",
      "\u001b[0;32m<ipython-input-4-a733c323b9b5>\u001b[0m in \u001b[0;36m<module>\u001b[0;34m()\u001b[0m\n\u001b[1;32m      1\u001b[0m \u001b[0;31m# Gives an error\u001b[0m\u001b[0;34m\u001b[0m\u001b[0;34m\u001b[0m\u001b[0m\n\u001b[1;32m      2\u001b[0m \u001b[0;31m# 'number' is a local variable, not accessible outside the function\u001b[0m\u001b[0;34m\u001b[0m\u001b[0;34m\u001b[0m\u001b[0m\n\u001b[0;32m----> 3\u001b[0;31m \u001b[0mprint\u001b[0m\u001b[0;34m(\u001b[0m\u001b[0mnumber\u001b[0m\u001b[0;34m)\u001b[0m\u001b[0;34m\u001b[0m\u001b[0m\n\u001b[0m",
      "\u001b[0;31mNameError\u001b[0m: name 'number' is not defined"
     ]
    }
   ],
   "source": [
    "# Gives an error\n",
    "# 'number' is a local variable, not accessible outside the function\n",
    "print(number)"
   ]
  },
  {
   "cell_type": "code",
   "execution_count": 5,
   "metadata": {},
   "outputs": [
    {
     "name": "stdout",
     "output_type": "stream",
     "text": [
      "7 8\n"
     ]
    }
   ],
   "source": [
    "# Now we have a global variable 'number' and a local variable 'number'\n",
    "# Again the local variable remains inside the function\n",
    "# Existence of a global 'number' doesn't matter - there is no name conflict\n",
    "\n",
    "number = 7\n",
    "new_number = addOne(number)\n",
    "print(number, new_number)"
   ]
  },
  {
   "cell_type": "code",
   "execution_count": 6,
   "metadata": {},
   "outputs": [
    {
     "data": {
      "text/plain": [
       "1"
      ]
     },
     "execution_count": 6,
     "metadata": {},
     "output_type": "execute_result"
    }
   ],
   "source": [
    "# WRONG way to write a function - inside the function refers to global variable 'count'\n",
    "# The function also fails to use the argument passed to it\n",
    "\n",
    "count = 0\n",
    "\n",
    "def addOne_wrong(number):\n",
    "    return count + 1\n",
    "addOne(count)"
   ]
  },
  {
   "cell_type": "code",
   "execution_count": 7,
   "metadata": {},
   "outputs": [
    {
     "data": {
      "text/plain": [
       "1"
      ]
     },
     "execution_count": 7,
     "metadata": {},
     "output_type": "execute_result"
    }
   ],
   "source": [
    "# Function produces an unexpected answer\n",
    "c = 10\n",
    "addOne_wrong(c)"
   ]
  },
  {
   "cell_type": "markdown",
   "metadata": {},
   "source": [
    "## Passing lists as function arguments\n",
    "\n",
    "It gets confusing fast! Lists exist as specific objects in your computers memory. Confusingly, a single list object can have multiple names, including a global name and a local name."
   ]
  },
  {
   "cell_type": "code",
   "execution_count": 8,
   "metadata": {},
   "outputs": [
    {
     "name": "stdout",
     "output_type": "stream",
     "text": [
      "None [1, 2, 3, 4, 5]\n"
     ]
    }
   ],
   "source": [
    "# Lists work differently inside functions\n",
    "# You can't use this function to create a new list with appended value\n",
    "# In this case, the same list gets two names: a global name (my_list) and a local name (a_list)\n",
    "# But it's the same list.\n",
    "\n",
    "\n",
    "def run_append(a_list, an_item):\n",
    "    return a_list.append(an_item)\n",
    "\n",
    "my_list = [1, 2, 3, 4] # Create a list, assign to a global variable\n",
    "\n",
    "new_list = run_append(my_list, 5)\n",
    "print(new_list, my_list) # 'new_list' is just an empty list, while my_list has been changed\n",
    "\n",
    "\n",
    "# print(a_list) # This would raise an error - 'a_list' is a local variable name"
   ]
  },
  {
   "cell_type": "code",
   "execution_count": 9,
   "metadata": {},
   "outputs": [
    {
     "name": "stdout",
     "output_type": "stream",
     "text": [
      "None [1, 2, 3, 4, 5]\n"
     ]
    }
   ],
   "source": [
    "# If you don't want to change the original list, make a copy inside the function\n",
    "\n",
    "def run_append_correct(a_list, an_item):\n",
    "    another_list = list(a_list) # first make a copy of the list\n",
    "    another_list.append(an_item) # now run append on the copy\n",
    "    return another_list # return the copy\n",
    "\n",
    "my_list = [1, 2, 3, 4]\n",
    "new_list = run_append(my_list, 5)\n",
    "print(new_list, my_list) # works as expected"
   ]
  },
  {
   "cell_type": "code",
   "execution_count": 10,
   "metadata": {},
   "outputs": [
    {
     "ename": "NameError",
     "evalue": "name 'local_list' is not defined",
     "output_type": "error",
     "traceback": [
      "\u001b[0;31m---------------------------------------------------------------------------\u001b[0m",
      "\u001b[0;31mNameError\u001b[0m                                 Traceback (most recent call last)",
      "\u001b[0;32m<ipython-input-10-0c85cd6d39f6>\u001b[0m in \u001b[0;36m<module>\u001b[0;34m()\u001b[0m\n\u001b[1;32m      6\u001b[0m \u001b[0;34m\u001b[0m\u001b[0m\n\u001b[1;32m      7\u001b[0m \u001b[0mcreate_list\u001b[0m\u001b[0;34m(\u001b[0m\u001b[0;36m1\u001b[0m\u001b[0;34m,\u001b[0m \u001b[0;36m2\u001b[0m\u001b[0;34m)\u001b[0m\u001b[0;34m\u001b[0m\u001b[0m\n\u001b[0;32m----> 8\u001b[0;31m \u001b[0mprint\u001b[0m\u001b[0;34m(\u001b[0m\u001b[0mlocal_list\u001b[0m\u001b[0;34m)\u001b[0m \u001b[0;31m# raises and error\u001b[0m\u001b[0;34m\u001b[0m\u001b[0m\n\u001b[0m",
      "\u001b[0;31mNameError\u001b[0m: name 'local_list' is not defined"
     ]
    }
   ],
   "source": [
    "# If lists can be both global and local, why doesn't this work?\n",
    "# The function creates a list, but that list only has a local name, is thus inaccessible outside the function\n",
    "\n",
    "def create_list(item1, item2):\n",
    "    local_list = [item1, item2]\n",
    "\n",
    "create_list(1, 2)\n",
    "print(local_list) # raises an error"
   ]
  },
  {
   "cell_type": "markdown",
   "metadata": {},
   "source": [
    "# Coding strategies:\n",
    "\n",
    "## 1) Decide what your input and output are\n",
    "\n",
    "Write code to translate DNA into protein. Input is a DNA sequence (as a string), output is protein sequences (as a string).\n",
    "\n",
    "Example from ps4/2 Histograms: You task is to produce a histogram of gene lengths of genes in the human genome.\n",
    "\n",
    "**Input**: Gene lengths in bp - more specifically, a list of integers representing gene lengths in bp\n",
    "\n",
    "**Output**: A historgram - a set of bins with reasonable boundaries showing number of occurrences of data points within boundaries. More specifically, a list of integers representing bin counts\n",
    "\n",
    "## 2) Outline steps to get there/break into tasks:\n",
    "\n",
    "1. Assign DNA sequence to variable.\n",
    "\n",
    "2. Move through the string three bases at a time\n",
    "\n",
    "3. For each codon, look up amino acid symbol and add to protein sequence.\n",
    "\n",
    "4. End when we reach a stop codon.\n",
    "\n",
    "Tasks: 1) Determine bin boundaries/widths. 2) Count number of genes that fall in each bin.\n",
    "\n",
    "## 3) Work inside out: small steps/functions to larger ones\n",
    "\n",
    "\n",
    "Extract codons from a string\n",
    "    - Use a for loop, slices to get three bases at a time\n",
    "    - stop the for loop when you encounter a stop codon\n",
    "\n",
    "Look up codons in a genetic code dictionary and add the amino acid symbol.\n",
    "\n",
    "    - write a genetic code dictionary\n",
    "    - look up entries using extracted codon\n",
    "    - append/concatenate amino acid symbol to string."
   ]
  },
  {
   "cell_type": "markdown",
   "metadata": {},
   "source": [
    "## Pseudocode\n",
    "\n",
    "Pseudocode is a little stricter - write out code in plain language, but arrange it roughly how you would lay out your code, including indentation. \n",
    "\n",
    "**Pseudocode for opening files**\n",
    "\n",
    "```\n",
    "Create empty lists for gene names, lengths, exon counts, and gene types \n",
    "\n",
    "For each line in file:\n",
    "    Strip the trailing newline\n",
    "    Split the line into list elements at the tabs & assign to variables\n",
    "    Calculate transcript length\n",
    "    Append name, length, and gene type to lists while converting the values to integers as needed\n",
    "```"
   ]
  },
  {
   "cell_type": "markdown",
   "metadata": {},
   "source": [
    "**function to translate dna**\n",
    "\n",
    "```\n",
    "def translate_dna( dna sequence):\n",
    "\n",
    "    define a genetic code dictionary\n",
    "    initialize empty string for protein sequence\n",
    "    for every three bases in the dna sequence:\n",
    "        look up the corresponding amino acid using the genetic code\n",
    "        append that amino acid to protein sequence\n",
    "        \n",
    "    return protein sequence\n",
    "        \n",
    "```"
   ]
  },
  {
   "cell_type": "markdown",
   "metadata": {},
   "source": [
    "## Create placeholder functions with `pass`\n",
    "I forgot to mention this in class, but **DELETE** `pass` when your function is complete, otherwise your function may not do anything. "
   ]
  },
  {
   "cell_type": "code",
   "execution_count": 11,
   "metadata": {
    "collapsed": true
   },
   "outputs": [],
   "source": [
    "# Sometimes its easier to list out the functions you'll need, then fill them in later.\n",
    "# 'pass' will let you create incomplete function definitions that don't raise an error when you run the cell.\n",
    "# DELETE the pass when the function is complete.\n",
    "\n",
    "\n",
    "def mean(values):\n",
    "    pass\n",
    "\n",
    "def std(values):\n",
    "    pass\n",
    "\n",
    "def draw_random_sample(mean, sd):\n",
    "    pass\n",
    "\n",
    "def compare_sample_means(sample1, sample2):\n",
    "    pass"
   ]
  },
  {
   "cell_type": "markdown",
   "metadata": {},
   "source": [
    "## Use small examples to test your code! And comment your code!!\n",
    "\n",
    "In the genetic code/translate dna function, we first wrote and tested code to grab codons from dna sequence. Once that was working, we used it in a function."
   ]
  },
  {
   "cell_type": "markdown",
   "metadata": {},
   "source": [
    "# Rolling your own data structures\n",
    "\n",
    "1. So far, we've been using simple lists to hold our data. For example, we read in a file of data with rows and columns, save each column as its own list. This makes sense when each column is a fundamentally different thing.\n",
    "\n",
    "2. But sometimes we want more complex data structures. Sometimes with time series data, it makes more sense to keep the rows together. Or you may have a gene network, useful to represent as a dictionary of lists - each entry a gene, with a list of its interacting neighbors.\n",
    "\n",
    "3. Often we don't need complex data structures, simple ones will do. In this class, many of our first examples could be implemented just as easily as basic data types. But the point here is to practice *building* your own complex data structures from simple elements - a list of dictionaries of lists, etc. Think of something like an address book - a dictionary of lists is a good way to hold multiple types of information about each dictionary entry."
   ]
  },
  {
   "cell_type": "code",
   "execution_count": 12,
   "metadata": {
    "collapsed": true
   },
   "outputs": [],
   "source": [
    "# Making a list of lists is easy - just make a list of your elements\n",
    "# For example, three data points with xyz coordinates:\n",
    "\n",
    "xyz = [[10, 0, 2], [3, 8, 7], [6, 5, 3]]"
   ]
  },
  {
   "cell_type": "code",
   "execution_count": 13,
   "metadata": {},
   "outputs": [
    {
     "data": {
      "text/plain": [
       "[[10, 0, 2], [3, 8, 7], [6, 5, 3]]"
      ]
     },
     "execution_count": 13,
     "metadata": {},
     "output_type": "execute_result"
    }
   ],
   "source": [
    "xyz # look at the output, bracket and comma structure show it's a list of lists"
   ]
  },
  {
   "cell_type": "code",
   "execution_count": 14,
   "metadata": {},
   "outputs": [
    {
     "data": {
      "text/plain": [
       "[10, 0, 2]"
      ]
     },
     "execution_count": 14,
     "metadata": {},
     "output_type": "execute_result"
    }
   ],
   "source": [
    "xyz[0] # first element in the list xyz, which is itself a list"
   ]
  },
  {
   "cell_type": "code",
   "execution_count": 15,
   "metadata": {},
   "outputs": [
    {
     "data": {
      "text/plain": [
       "0"
      ]
     },
     "execution_count": 15,
     "metadata": {},
     "output_type": "execute_result"
    }
   ],
   "source": [
    "xyz[0][1] # read left to right - result of first indexing is a list, to which second index is applied"
   ]
  },
  {
   "cell_type": "code",
   "execution_count": 16,
   "metadata": {},
   "outputs": [
    {
     "data": {
      "text/plain": [
       "[6, 5, 3]"
      ]
     },
     "execution_count": 16,
     "metadata": {},
     "output_type": "execute_result"
    }
   ],
   "source": [
    "# How do you get 'columns'? NOT like this:\n",
    "xyz[:][2]\n",
    "\n",
    "# Why is this wrong? The slice [:] just returns a list of lists, the second index grabs the third list"
   ]
  },
  {
   "cell_type": "code",
   "execution_count": 17,
   "metadata": {
    "collapsed": true
   },
   "outputs": [],
   "source": [
    "# List comprehensions to access columns - builds a list of y values\n",
    "# To access the middle (y) coordinates:\n",
    "\n",
    "y = [row[1] for row in xyz]"
   ]
  },
  {
   "cell_type": "code",
   "execution_count": 18,
   "metadata": {},
   "outputs": [
    {
     "data": {
      "text/plain": [
       "[0, 8, 5]"
      ]
     },
     "execution_count": 18,
     "metadata": {},
     "output_type": "execute_result"
    }
   ],
   "source": [
    "y"
   ]
  },
  {
   "cell_type": "code",
   "execution_count": 19,
   "metadata": {
    "collapsed": true
   },
   "outputs": [],
   "source": [
    "# The one-liner list comprehension above is identical to this for loop:\n",
    "\n",
    "y = []\n",
    "for row in xyz:\n",
    "    y.append(row[1])\n"
   ]
  },
  {
   "cell_type": "code",
   "execution_count": null,
   "metadata": {
    "collapsed": true
   },
   "outputs": [],
   "source": []
  }
 ],
 "metadata": {
  "kernelspec": {
   "display_name": "Python 3",
   "language": "python",
   "name": "python3"
  },
  "language_info": {
   "codemirror_mode": {
    "name": "ipython",
    "version": 3
   },
   "file_extension": ".py",
   "mimetype": "text/x-python",
   "name": "python",
   "nbconvert_exporter": "python",
   "pygments_lexer": "ipython3",
   "version": "3.6.1"
  }
 },
 "nbformat": 4,
 "nbformat_minor": 2
}
