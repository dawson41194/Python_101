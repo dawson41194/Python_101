{
 "cells": [
  {
   "cell_type": "markdown",
   "metadata": {},
   "source": [
    "# Big Header\n",
    "## Smaller Header\n",
    "### Even Smaller Header"
   ]
  },
  {
   "cell_type": "markdown",
   "metadata": {},
   "source": [
    "*Italic* text\n",
    "**Bold** text\n",
    "\n",
    "Code examples:\n",
    "```print('Hello World'\\n)\n",
    "```\n",
    "\n",
    "Lists:\n",
    "1. Adenine\n",
    "2. Cytosine\n",
    "3. Guanine\n",
    "4. Thymine"
   ]
  },
  {
   "cell_type": "markdown",
   "metadata": {},
   "source": [
    "## Variables"
   ]
  },
  {
   "cell_type": "code",
   "execution_count": 9,
   "metadata": {
    "collapsed": true
   },
   "outputs": [],
   "source": [
    "# Variables are the way we hold our data. \n",
    "# We assign a value to a variable using the \"assignment operator\", which is the equal sign:\n",
    "\n",
    "n = 25 # assign the value 25 to the variable n"
   ]
  },
  {
   "cell_type": "code",
   "execution_count": 10,
   "metadata": {},
   "outputs": [
    {
     "name": "stdout",
     "output_type": "stream",
     "text": [
      "25\n"
     ]
    }
   ],
   "source": [
    "# To see the value assigned to n, use the print() function:\n",
    "print(n)"
   ]
  },
  {
   "cell_type": "code",
   "execution_count": 11,
   "metadata": {},
   "outputs": [
    {
     "data": {
      "text/plain": [
       "25"
      ]
     },
     "execution_count": 11,
     "metadata": {},
     "output_type": "execute_result"
    }
   ],
   "source": [
    "# Or in Jupyter notebook, just type the variable name and execute the cell with shift-enter\n",
    "# Notice any subtle differences from the output of print()? \n",
    "# Demonstrate with a = 6, etc - ipython displays the LAST statement output\n",
    "n"
   ]
  },
  {
   "cell_type": "code",
   "execution_count": 12,
   "metadata": {},
   "outputs": [
    {
     "name": "stdout",
     "output_type": "stream",
     "text": [
      "500\n"
     ]
    }
   ],
   "source": [
    "# Variables can be assigned new values - hence the name variable\n",
    "n = 500\n",
    "print(n)"
   ]
  },
  {
   "cell_type": "code",
   "execution_count": 13,
   "metadata": {},
   "outputs": [
    {
     "name": "stdout",
     "output_type": "stream",
     "text": [
      "ACGT\n"
     ]
    }
   ],
   "source": [
    "# Variables don't just hold numbers\n",
    "\n",
    "n = 'ACGT' # Characters enclosed in quotes are called strings\n",
    "print(n)"
   ]
  },
  {
   "cell_type": "code",
   "execution_count": 14,
   "metadata": {},
   "outputs": [
    {
     "data": {
      "text/plain": [
       "str"
      ]
     },
     "execution_count": 14,
     "metadata": {},
     "output_type": "execute_result"
    }
   ],
   "source": [
    "# You can discover what type of data a variable holds by using the type() function\n",
    "type(n)"
   ]
  },
  {
   "cell_type": "code",
   "execution_count": 15,
   "metadata": {},
   "outputs": [
    {
     "name": "stdout",
     "output_type": "stream",
     "text": [
      "<class 'int'>\n",
      "<class 'str'>\n"
     ]
    }
   ],
   "source": [
    "# Numbers can also be strings if you enclose them in quotes. \n",
    "# Let's use type() to see how this works\n",
    "n = 1\n",
    "print(type(n)) # notice that you can nest functions inside each other. Use print() to show results.\n",
    "n = '1'\n",
    "print(type(n))"
   ]
  },
  {
   "cell_type": "code",
   "execution_count": 12,
   "metadata": {},
   "outputs": [
    {
     "ename": "TypeError",
     "evalue": "must be str, not int",
     "output_type": "error",
     "traceback": [
      "\u001b[0;31m---------------------------------------------------------------------------\u001b[0m",
      "\u001b[0;31mTypeError\u001b[0m                                 Traceback (most recent call last)",
      "\u001b[0;32m<ipython-input-12-3a514f8c0d5d>\u001b[0m in \u001b[0;36m<module>\u001b[0;34m()\u001b[0m\n\u001b[1;32m      1\u001b[0m \u001b[0;31m# What you can do with a variable depends on the data type\u001b[0m\u001b[0;34m\u001b[0m\u001b[0;34m\u001b[0m\u001b[0m\n\u001b[0;32m----> 2\u001b[0;31m \u001b[0mn\u001b[0m \u001b[0;34m+\u001b[0m \u001b[0;36m1\u001b[0m \u001b[0;31m# n is a string\u001b[0m\u001b[0;34m\u001b[0m\u001b[0m\n\u001b[0m",
      "\u001b[0;31mTypeError\u001b[0m: must be str, not int"
     ]
    }
   ],
   "source": [
    "# What you can do with a variable depends on the data type\n",
    "# n has a value of 1, but as a string – you get an error if you try to do math.\n",
    "n + 2"
   ]
  },
  {
   "cell_type": "code",
   "execution_count": 16,
   "metadata": {},
   "outputs": [
    {
     "data": {
      "text/plain": [
       "3"
      ]
     },
     "execution_count": 16,
     "metadata": {},
     "output_type": "execute_result"
    }
   ],
   "source": [
    "# Change n back to a number, then do math\n",
    "n = 1\n",
    "n + 2"
   ]
  },
  {
   "cell_type": "code",
   "execution_count": 14,
   "metadata": {},
   "outputs": [
    {
     "name": "stdout",
     "output_type": "stream",
     "text": [
      "13\n",
      "30\n",
      "1000\n"
     ]
    }
   ],
   "source": [
    "# You can do math without variables\n",
    "print(10 + 3)\n",
    "print(10*3)\n",
    "print(10**3)"
   ]
  },
  {
   "cell_type": "code",
   "execution_count": 17,
   "metadata": {
    "collapsed": true
   },
   "outputs": [],
   "source": [
    "# Let's define some new variables\n",
    "\n",
    "data = 12\n",
    "scale_factor = 2"
   ]
  },
  {
   "cell_type": "code",
   "execution_count": 18,
   "metadata": {},
   "outputs": [
    {
     "name": "stdout",
     "output_type": "stream",
     "text": [
      "24\n"
     ]
    }
   ],
   "source": [
    "# You can do math with just variables\n",
    "\n",
    "scaled_data = data * scale_factor\n",
    "print(scaled_data)"
   ]
  },
  {
   "cell_type": "markdown",
   "metadata": {},
   "source": [
    "A quirk of Jupyter Notebook when you go back and rerun cells out of order: If you change the value of a variable in a lower cell, and then rerun an upper cell, the upper cell will use the new value. \n",
    "Run the cell below, then rerun the cell above. Does the result make sense?"
   ]
  },
  {
   "cell_type": "code",
   "execution_count": 19,
   "metadata": {
    "collapsed": true
   },
   "outputs": [],
   "source": [
    "scale_factor = 3"
   ]
  },
  {
   "cell_type": "code",
   "execution_count": 21,
   "metadata": {},
   "outputs": [
    {
     "ename": "NameError",
     "evalue": "name 'data2' is not defined",
     "output_type": "error",
     "traceback": [
      "\u001b[0;31m---------------------------------------------------------------------------\u001b[0m",
      "\u001b[0;31mNameError\u001b[0m                                 Traceback (most recent call last)",
      "\u001b[0;32m<ipython-input-21-c32a4eabac72>\u001b[0m in \u001b[0;36m<module>\u001b[0;34m()\u001b[0m\n\u001b[1;32m      1\u001b[0m \u001b[0;31m# Variables need to be defined before you use them in an expression\u001b[0m\u001b[0;34m\u001b[0m\u001b[0;34m\u001b[0m\u001b[0m\n\u001b[1;32m      2\u001b[0m \u001b[0;31m# This produces an error because data2 is undefined:\u001b[0m\u001b[0;34m\u001b[0m\u001b[0;34m\u001b[0m\u001b[0m\n\u001b[0;32m----> 3\u001b[0;31m \u001b[0mscaled_data\u001b[0m \u001b[0;34m=\u001b[0m \u001b[0mdata2\u001b[0m \u001b[0;34m*\u001b[0m \u001b[0mscale_factor\u001b[0m\u001b[0;34m\u001b[0m\u001b[0m\n\u001b[0m",
      "\u001b[0;31mNameError\u001b[0m: name 'data2' is not defined"
     ]
    }
   ],
   "source": [
    "# Variables need to be defined before you use them in an expression\n",
    "# This produces an error because data2 is undefined:\n",
    "scaled_data = data2 * scale_factor"
   ]
  },
  {
   "cell_type": "markdown",
   "metadata": {},
   "source": [
    "A related example: If one variable 1 is defined in terms of another variable, it is **NOT** automatically updated if the first variable changes, as you can see in the next two cells:"
   ]
  },
  {
   "cell_type": "code",
   "execution_count": 20,
   "metadata": {},
   "outputs": [
    {
     "name": "stdout",
     "output_type": "stream",
     "text": [
      "12\n"
     ]
    }
   ],
   "source": [
    "# Define some variables\n",
    "replicates = 4\n",
    "mice_per_rep = 3\n",
    "\n",
    "# Define new variable from existing variables\n",
    "total_mice = mice_per_rep * replicates # math with variables\n",
    "print(total_mice)"
   ]
  },
  {
   "cell_type": "code",
   "execution_count": 21,
   "metadata": {},
   "outputs": [
    {
     "name": "stdout",
     "output_type": "stream",
     "text": [
      "12\n"
     ]
    }
   ],
   "source": [
    "# Now let's change the number of replicates. What happens to the value of total_mice?\n",
    "\n",
    "replicates = 5\n",
    "print(total_mice) # Does the value change? What should you do to update it?"
   ]
  },
  {
   "cell_type": "markdown",
   "metadata": {},
   "source": [
    "## Using strings\n",
    "To define a string, you can use single or double quotes:"
   ]
  },
  {
   "cell_type": "code",
   "execution_count": 22,
   "metadata": {},
   "outputs": [
    {
     "name": "stdout",
     "output_type": "stream",
     "text": [
      "ACGT\n",
      "ACGT\n"
     ]
    }
   ],
   "source": [
    "dna = 'ACGT'\n",
    "print(dna)\n",
    "dna = \"ACGT\"\n",
    "print(dna)"
   ]
  },
  {
   "cell_type": "code",
   "execution_count": 23,
   "metadata": {},
   "outputs": [
    {
     "ename": "SyntaxError",
     "evalue": "invalid syntax (<ipython-input-23-47ce8091ac7d>, line 3)",
     "output_type": "error",
     "traceback": [
      "\u001b[0;36m  File \u001b[0;32m\"<ipython-input-23-47ce8091ac7d>\"\u001b[0;36m, line \u001b[0;32m3\u001b[0m\n\u001b[0;31m    word = 'don't'\u001b[0m\n\u001b[0m                ^\u001b[0m\n\u001b[0;31mSyntaxError\u001b[0m\u001b[0;31m:\u001b[0m invalid syntax\n"
     ]
    }
   ],
   "source": [
    "# Normally we just use single quotes, but sometimes double quotes are useful:\n",
    "# This won't work - python ends the string with the second quote mark:\n",
    "word = 'don't'"
   ]
  },
  {
   "cell_type": "code",
   "execution_count": 23,
   "metadata": {},
   "outputs": [
    {
     "name": "stdout",
     "output_type": "stream",
     "text": [
      "don't\n",
      "don't\n"
     ]
    }
   ],
   "source": [
    "# This works\n",
    "word = \"don't\"\n",
    "print(word)\n",
    "\n",
    "# You can also use the escape character \\ to achieve the same thing:\n",
    "word = 'don\\'t'\n",
    "print(word)"
   ]
  },
  {
   "cell_type": "code",
   "execution_count": 24,
   "metadata": {},
   "outputs": [
    {
     "name": "stdout",
     "output_type": "stream",
     "text": [
      "don't\n",
      "word\n"
     ]
    }
   ],
   "source": [
    "# Another subtlety\n",
    "print(word) # print the value of the variable word\n",
    "print('word') # print the string word - note the change in syntax coloring"
   ]
  },
  {
   "cell_type": "code",
   "execution_count": 25,
   "metadata": {},
   "outputs": [
    {
     "name": "stdout",
     "output_type": "stream",
     "text": [
      "ATCGAGCTAGCGATC\n",
      "TGCCGAGCTACGATC\n",
      "CTCCGTTGCGTTGGC\n"
     ]
    }
   ],
   "source": [
    "# Triple quotes allow you to write strings that span multiple lines\n",
    "\n",
    "sequence = '''ATCGAGCTAGCGATC\n",
    "TGCCGAGCTACGATC\n",
    "CTCCGTTGCGTTGGC'''\n",
    "\n",
    "print(sequence)"
   ]
  },
  {
   "cell_type": "code",
   "execution_count": 26,
   "metadata": {},
   "outputs": [
    {
     "name": "stdout",
     "output_type": "stream",
     "text": [
      "AAAA CCCC\n"
     ]
    }
   ],
   "source": [
    "# two more tricks before we move into other data types - multiple assignment\n",
    "\n",
    "dna1, dna2 = 'AAAA', 'CCCC' # assign the value of several variables in one line\n",
    "print(dna1, dna2)"
   ]
  },
  {
   "cell_type": "code",
   "execution_count": 27,
   "metadata": {},
   "outputs": [
    {
     "name": "stdout",
     "output_type": "stream",
     "text": [
      "AAAACCCC\n"
     ]
    }
   ],
   "source": [
    "# Some math operators have different meanings when used with strings:\n",
    "\n",
    "print(dna1 + dna2)"
   ]
  },
  {
   "cell_type": "code",
   "execution_count": 28,
   "metadata": {
    "collapsed": true
   },
   "outputs": [],
   "source": [
    "# A few more simple data types for variables. Note the Syntax coloring.\n",
    "\n",
    "gene = \"CDC28\" # strings go between single or double quotes\n",
    "n_mice = 13 # integer\n",
    "protein_level = 1.76 # float\n",
    "is_present = True # boolean can be True or False"
   ]
  },
  {
   "cell_type": "markdown",
   "metadata": {},
   "source": [
    "### Rules for naming variables:\n",
    "1. Names are case sensitive = `DNA`, `Dna`, and `dna` are all distinct.\n",
    "2. Don't begin with a number\n",
    "3. Generally stick to upper and lower case letters, and numbers\n",
    "4. Avoid these reserved names that are already used by Python:\n",
    "\n",
    "`and, as, assert, break, class, continue, def, del, elif, else,\n",
    "except, False, finally, for, from, global, if, import, in, is, \n",
    "lambda, None, nonlocal, not, or, pass, raise, return, True, try, \n",
    "while, with, yield`\n"
   ]
  },
  {
   "cell_type": "code",
   "execution_count": 40,
   "metadata": {},
   "outputs": [
    {
     "name": "stdout",
     "output_type": "stream",
     "text": [
      "\n",
      "Welcome to Python 3.6's help utility!\n",
      "\n",
      "If this is your first time using Python, you should definitely check out\n",
      "the tutorial on the Internet at http://docs.python.org/3.6/tutorial/.\n",
      "\n",
      "Enter the name of any module, keyword, or topic to get help on writing\n",
      "Python programs and using Python modules.  To quit this help utility and\n",
      "return to the interpreter, just type \"quit\".\n",
      "\n",
      "To get a list of available modules, keywords, symbols, or topics, type\n",
      "\"modules\", \"keywords\", \"symbols\", or \"topics\".  Each module also comes\n",
      "with a one-line summary of what it does; to list the modules whose name\n",
      "or summary contain a given string such as \"spam\", type \"modules spam\".\n",
      "\n",
      "help> keywords\n",
      "\n",
      "Here is a list of the Python keywords.  Enter any keyword to get more help.\n",
      "\n",
      "False               def                 if                  raise\n",
      "None                del                 import              return\n",
      "True                elif                in                  try\n",
      "and                 else                is                  while\n",
      "as                  except              lambda              with\n",
      "assert              finally             nonlocal            yield\n",
      "break               for                 not                 \n",
      "class               from                or                  \n",
      "continue            global              pass                \n",
      "\n",
      "help> keywords\n",
      "\n",
      "Here is a list of the Python keywords.  Enter any keyword to get more help.\n",
      "\n",
      "False               def                 if                  raise\n",
      "None                del                 import              return\n",
      "True                elif                in                  try\n",
      "and                 else                is                  while\n",
      "as                  except              lambda              with\n",
      "assert              finally             nonlocal            yield\n",
      "break               for                 not                 \n",
      "class               from                or                  \n",
      "continue            global              pass                \n",
      "\n",
      "help> quite\n",
      "No Python documentation found for 'quite'.\n",
      "Use help() to get the interactive help utility.\n",
      "Use help(str) for help on the str class.\n",
      "\n",
      "help> quit\n",
      "\n",
      "You are now leaving help and returning to the Python interpreter.\n",
      "If you want to ask for help on a particular object directly from the\n",
      "interpreter, you can type \"help(object)\".  Executing \"help('string')\"\n",
      "has the same effect as typing a particular string at the help> prompt.\n"
     ]
    }
   ],
   "source": [
    "# If you forget what's in this list, use the help function:\n",
    "help() # try this to get a llist of keywords"
   ]
  },
  {
   "cell_type": "markdown",
   "metadata": {},
   "source": [
    "## Lists\n",
    "Lists are one of the most important data types in this course, and in experimental work. A list can hold multiple values, making a convient data type for storing sets of data.\n",
    "\n",
    "To create a list, you enclose your values (which can be integers, floats, strings, etc. - but usually just a single type for the entire list) in **square brackets**, with each value separated by a comma."
   ]
  },
  {
   "cell_type": "code",
   "execution_count": 29,
   "metadata": {
    "collapsed": true
   },
   "outputs": [],
   "source": [
    "# A list of floats - say four measurements from an experiment.\n",
    "experiment1 = [10.2, 11.1, 11.0, 9.5]"
   ]
  },
  {
   "cell_type": "markdown",
   "metadata": {},
   "source": [
    "You have a list. Now what? Here are some things you can do with lists:"
   ]
  },
  {
   "cell_type": "code",
   "execution_count": 30,
   "metadata": {},
   "outputs": [
    {
     "data": {
      "text/plain": [
       "4"
      ]
     },
     "execution_count": 30,
     "metadata": {},
     "output_type": "execute_result"
    }
   ],
   "source": [
    "# How many items are in the list? Use the lenght function len() to find out\n",
    "\n",
    "len(experiment1)"
   ]
  },
  {
   "cell_type": "code",
   "execution_count": 31,
   "metadata": {},
   "outputs": [
    {
     "data": {
      "text/plain": [
       "10.2"
      ]
     },
     "execution_count": 31,
     "metadata": {},
     "output_type": "execute_result"
    }
   ],
   "source": [
    "# Access individual values in a list using indexing.\n",
    "# Index by enclosing the list position you want in square brackets. First position is position 0.\n",
    "# Rerun this cell a few times with different position values.\n",
    "\n",
    "experiment1[0]"
   ]
  },
  {
   "cell_type": "code",
   "execution_count": 32,
   "metadata": {},
   "outputs": [
    {
     "data": {
      "text/plain": [
       "9.5"
      ]
     },
     "execution_count": 32,
     "metadata": {},
     "output_type": "execute_result"
    }
   ],
   "source": [
    "# You can also access by counting backwards from the end, using negative numbers as indices\n",
    "experiment1[-1]"
   ]
  },
  {
   "cell_type": "code",
   "execution_count": 33,
   "metadata": {},
   "outputs": [
    {
     "data": {
      "text/plain": [
       "[11.0, 9.5]"
      ]
     },
     "execution_count": 33,
     "metadata": {},
     "output_type": "execute_result"
    }
   ],
   "source": [
    "# Extract a range of positions. This is called a \"slice\".\n",
    "# To take a slice, the first number is the start position, the second is the *last position plus one*:\n",
    "\n",
    "experiment1[2:4]\n",
    "\n",
    "# Try this a few times with different values. \n",
    "# Why is this numbering useful? What do you get if you subtract the last index from the first in a slice?"
   ]
  },
  {
   "cell_type": "code",
   "execution_count": 34,
   "metadata": {},
   "outputs": [
    {
     "name": "stdout",
     "output_type": "stream",
     "text": [
      "[10.2, 11.3, 11.0, 9.5]\n"
     ]
    }
   ],
   "source": [
    "# Replace values in a list using indexing.\n",
    "experiment1[1] = 11.3\n",
    "print(experiment1)\n"
   ]
  },
  {
   "cell_type": "code",
   "execution_count": 35,
   "metadata": {},
   "outputs": [
    {
     "data": {
      "text/plain": [
       "True"
      ]
     },
     "execution_count": 35,
     "metadata": {},
     "output_type": "execute_result"
    }
   ],
   "source": [
    "# Test for membership in a list with 'in'\n",
    "\n",
    "11.3 in experiment1"
   ]
  },
  {
   "cell_type": "code",
   "execution_count": 36,
   "metadata": {},
   "outputs": [
    {
     "name": "stdout",
     "output_type": "stream",
     "text": [
      "[10.2, 11.3, 11.0, 9.5, 10.6]\n"
     ]
    }
   ],
   "source": [
    "# Add items to a list using append() - note the dot notation as we use this function.\n",
    "experiment1.append(10.6)\n",
    "print(experiment1)"
   ]
  },
  {
   "cell_type": "code",
   "execution_count": 1,
   "metadata": {},
   "outputs": [
    {
     "name": "stdout",
     "output_type": "stream",
     "text": [
      "[1, 2, 3, 4, 5, 6, 7, 8, 9, 10]\n"
     ]
    }
   ],
   "source": [
    "# Inser an item at a speciic position\n",
    "# NOT generally something you want to do since it's easy to slip up\n",
    "# But occasionally useful.\n",
    "\n",
    "numbers = [1,2,3,5,6,7,8,9,10]\n",
    "\n",
    "# Insert the missing number - position, value go in parentheses\n",
    "\n",
    "numbers.insert(3,4)\n",
    "print(numbers)\n",
    "\n"
   ]
  },
  {
   "cell_type": "code",
   "execution_count": 37,
   "metadata": {},
   "outputs": [
    {
     "name": "stdout",
     "output_type": "stream",
     "text": [
      "5\n",
      "[1, 2, 3, 6, 7, 8]\n"
     ]
    }
   ],
   "source": [
    "# Removing items from lists is also occasionally useful\n",
    "# But again dangerous & memory intensive: you shift indices of \n",
    "# all data values\n",
    "\n",
    "removed_value = numbers.pop(3)\n",
    "print(removed_value)\n",
    "print(numbers) # notice what's removed"
   ]
  },
  {
   "cell_type": "code",
   "execution_count": 38,
   "metadata": {},
   "outputs": [
    {
     "name": "stdout",
     "output_type": "stream",
     "text": [
      "8\n",
      "[1, 2, 3, 6, 7]\n"
     ]
    }
   ],
   "source": [
    "# More useful is just removing the last value\n",
    "\n",
    "print(numbers.pop()) # remove last value is default.\n",
    "print(numbers)\n",
    "\n",
    "# A reminder of notebook quirks - what happens of you run this cell again?\n",
    "# And again?"
   ]
  },
  {
   "cell_type": "code",
   "execution_count": 39,
   "metadata": {},
   "outputs": [
    {
     "data": {
      "text/plain": [
       "3"
      ]
     },
     "execution_count": 39,
     "metadata": {},
     "output_type": "execute_result"
    }
   ],
   "source": [
    "# Very useful function - count occurrences of a value\n",
    "\n",
    "count_data = [0,1,4,2,4,0,0,2,6,3]\n",
    "count_data.count(0) # how many zeros in our data?"
   ]
  },
  {
   "cell_type": "code",
   "execution_count": 40,
   "metadata": {},
   "outputs": [
    {
     "data": {
      "text/plain": [
       "[10.2, 11.3, 11.0, 9.5, 10.6, 9.8, 12.1, 11.0, 10.3, 12.0]"
      ]
     },
     "execution_count": 40,
     "metadata": {},
     "output_type": "execute_result"
    }
   ],
   "source": [
    "# Math operators have a meaning with lists too - concatenate\n",
    "experiment2 = [9.8, 12.1, 11.0, 10.3, 12.0]\n",
    "experiment1 + experiment2"
   ]
  },
  {
   "cell_type": "code",
   "execution_count": 42,
   "metadata": {
    "collapsed": true
   },
   "outputs": [],
   "source": [
    "# To save the concatenation, must assign to variable\n",
    "experiments = experiment1 + experiment2"
   ]
  }
 ],
 "metadata": {
  "kernelspec": {
   "display_name": "Python 3",
   "language": "python",
   "name": "python3"
  },
  "language_info": {
   "codemirror_mode": {
    "name": "ipython",
    "version": 3
   },
   "file_extension": ".py",
   "mimetype": "text/x-python",
   "name": "python",
   "nbconvert_exporter": "python",
   "pygments_lexer": "ipython3",
   "version": "3.6.1"
  }
 },
 "nbformat": 4,
 "nbformat_minor": 2
}
